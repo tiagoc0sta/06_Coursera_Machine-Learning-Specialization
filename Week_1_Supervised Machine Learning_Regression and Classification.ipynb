{
 "cells": [
  {
   "cell_type": "markdown",
   "id": "c1e9fa9d",
   "metadata": {},
   "source": [
    "\n",
    "\n",
    "supervisioned learning \n",
    "Learn from data labeled with right answers\n",
    "\n",
    "Linear regression = prever preço de preços dos imoveis. Large number of possible outputs\n",
    "classification = class categories. Ex benign , malign/ cat, dog. Small number of possible outputs\n",
    "\n",
    "------------------------------------------------------------\n",
    "\n",
    "unsupervisioned learning  \n",
    "Do not label data, find something interesting\n",
    "\n",
    "Clustering. Ex: Google news\n",
    "\n",
    "\n",
    "------------------------\n",
    "\n",
    "Gradient descent algorithm\n",
    "\n"
   ]
  }
 ],
 "metadata": {
  "kernelspec": {
   "display_name": "Python 3 (ipykernel)",
   "language": "python",
   "name": "python3"
  },
  "language_info": {
   "codemirror_mode": {
    "name": "ipython",
    "version": 3
   },
   "file_extension": ".py",
   "mimetype": "text/x-python",
   "name": "python",
   "nbconvert_exporter": "python",
   "pygments_lexer": "ipython3",
   "version": "3.10.9"
  }
 },
 "nbformat": 4,
 "nbformat_minor": 5
}
